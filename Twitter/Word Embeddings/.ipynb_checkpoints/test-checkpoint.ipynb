{
 "cells": [
  {
   "cell_type": "code",
   "execution_count": 2,
   "metadata": {},
   "outputs": [
    {
     "name": "stderr",
     "output_type": "stream",
     "text": [
      "2023-04-08 10:36:12.359922: I tensorflow/core/platform/cpu_feature_guard.cc:193] This TensorFlow binary is optimized with oneAPI Deep Neural Network Library (oneDNN) to use the following CPU instructions in performance-critical operations:  SSE4.1 SSE4.2\n",
      "To enable them in other operations, rebuild TensorFlow with the appropriate compiler flags.\n"
     ]
    }
   ],
   "source": [
    "import re\n",
    "import sys\n",
    "import pandas as pd\n",
    "import string\n",
    "from sklearn.model_selection import train_test_split\n",
    "import os\n",
    "from tensorflow.python.keras.layers import LSTM, GRU, Dense, Embedding, Dropout\n",
    "from tensorflow.python.keras.models import Sequential\n",
    "from nltk.tokenize import word_tokenize\n",
    "import numpy as np\n",
    "from keras.preprocessing.text import Tokenizer\n",
    "from keras.utils import pad_sequences"
   ]
  },
  {
   "cell_type": "code",
   "execution_count": 3,
   "metadata": {},
   "outputs": [],
   "source": [
    "#URLS_RE = re.compile(r'(https|http)?:\\/\\/(\\w|\\.|\\/|\\?|\\=|\\&|\\%)*\\b')\n",
    "URLS_RE = re.compile(r'((http|https)\\:\\/\\/)?[a-zA-Z0-9\\.\\/\\?\\:@\\-_=#]+\\.([a-zA-Z]){2,6}([a-zA-Z0-9\\.\\&\\/\\?\\:@\\-_=#])*')\n",
    "\n",
    "LISTING_RE = re.compile(r'^(|[a-z]?|[0-9]{0,3})(\\-|\\.)+( |\\n)')\n",
    "\n",
    "def remove_urls(text):\n",
    "    return URLS_RE.sub('', text)\n",
    "\n",
    "def replace_multi_whitespaces(line):\n",
    "    return ' '.join(line.split())\n",
    "\n",
    "def remove_listing(line):\n",
    "    return LISTING_RE.sub('', line)\n",
    "\n",
    "def remove_punctuation(text):\n",
    "    text = text.replace('!','')\n",
    "    text = text.replace('\"','')\n",
    "    return text.translate(str.maketrans('','',string.punctuation))\n",
    "\n",
    "def normalize(s):\n",
    "    replacements = (\n",
    "        (\"á\", \"a\"),\n",
    "        (\"é\", \"e\"),\n",
    "        (\"í\", \"i\"),\n",
    "        (\"ó\", \"o\"),\n",
    "        (\"ú\", \"u\"),\n",
    "        (\"ü\",\"u\"),\n",
    "        (\"ñ\",\"n\"),\n",
    "        (\"ç\",\"c\"),\n",
    "        (\"\\u2026\",\"...\"),\n",
    "    )\n",
    "    for a, b in replacements:\n",
    "        s = s.replace(a, b).replace(a.upper(), b.upper())\n",
    "    return s\n",
    "\n",
    "def remove_stopwords(text,stop_words):\n",
    "    words = text.split(' ')\n",
    "    not_stop_words = set(words) ^ set(stop_words)\n",
    "    return ' '.join(not_stop_words)\n",
    "      \n",
    "\n",
    "def clean_text(text,stop_words):\t\n",
    "\n",
    "    text = text.lower()\n",
    "    text = normalize(text)\n",
    "    text = remove_urls(text)\n",
    "    text = remove_listing(text)\n",
    "    text = replace_multi_whitespaces(text)\n",
    "    text = remove_punctuation(text)\n",
    "    text = remove_stopwords(text,stop_words)\n",
    "    text = text.encode('ascii', 'ignore')\n",
    "\n",
    "    return text.decode()"
   ]
  },
  {
   "cell_type": "code",
   "execution_count": 4,
   "metadata": {},
   "outputs": [],
   "source": [
    "# load spanish stop words and remove accents (tweets dont have accents)\n",
    "stop_words_df = pd.read_csv('../spanish-stop-words.txt',header=None)\n",
    "stop_words = [normalize(w) for w in list(stop_words_df[0])] + ['q','ma']\n",
    "\n",
    "data = pd.read_excel('../cleaned_users.xlsx')\n",
    "username_list = data['username']\n",
    "\n",
    "all_texts = []\n",
    "for username in username_list:\n",
    "    with open(f'../Cleaned Documents/{username}.txt','r') as f:\n",
    "        text = f.read().replace('\\n',' ')\n",
    "        cleaned = clean_text(text,stop_words)\n",
    "        all_texts.append(cleaned)\n",
    "\n",
    "df = pd.DataFrame()\n",
    "df['text'] = all_texts\n",
    "\n",
    "gender_dict = {'female':0,'male':1}\n",
    "df['gender'] = data['gender'].map(gender_dict)\n",
    "\n",
    "X_train, X_test, y_train, y_test = train_test_split(df['text'],df['gender'],shuffle=True,stratify=df['gender'],test_size=0.3)"
   ]
  },
  {
   "cell_type": "code",
   "execution_count": 34,
   "metadata": {},
   "outputs": [],
   "source": [
    "X_train_tokenized = []\n",
    "for text in X_train:\n",
    "    X_train_tokenized.append(' '.join([token for token in word_tokenize(text,language='spanish',preserve_line=True)]))\n",
    "\n",
    "X_test_tokenized = []\n",
    "for text in X_test:\n",
    "    X_test_tokenized.append(' '.join([token for token in word_tokenize(text,language='spanish',preserve_line=True)]))"
   ]
  },
  {
   "cell_type": "code",
   "execution_count": 35,
   "metadata": {},
   "outputs": [],
   "source": [
    "max_words = 10000\n",
    "tokenizer = Tokenizer(num_words=max_words)\n",
    "tokenizer.fit_on_texts(X_train_tokenized)\n",
    "X_train_seq = tokenizer.texts_to_sequences(X_train_tokenized)\n",
    "X_test_seq = tokenizer.texts_to_sequences(X_test_tokenized)"
   ]
  },
  {
   "cell_type": "code",
   "execution_count": 37,
   "metadata": {},
   "outputs": [],
   "source": [
    "max_len = X_train.apply(lambda x: len(x)).max()\n",
    "X_train_pad = pad_sequences(X_train_seq, maxlen=max_len)\n",
    "X_test_pad = pad_sequences(X_test_seq, maxlen=max_len)\n",
    "word_index = tokenizer.word_index"
   ]
  },
  {
   "cell_type": "code",
   "execution_count": 47,
   "metadata": {},
   "outputs": [],
   "source": [
    "embedding_vectors = {}\n",
    "with open('glove-sbwc.i25.vec','r') as f:\n",
    "    first_line = f.readline().split(' ')\n",
    "    for line in f.readlines()[1:]:\n",
    "        row = line.split(' ')\n",
    "        # remove accents\n",
    "        word = normalize(row[0])\n",
    "        weights = np.asarray([float(val) for val in row[1:]])\n",
    "        embedding_vectors[word] = weights\n",
    "    \n",
    "    \n",
    "    num_words = int(first_line[0])\n",
    "    emb_dim = int(first_line[1])"
   ]
  },
  {
   "cell_type": "code",
   "execution_count": 48,
   "metadata": {},
   "outputs": [],
   "source": [
    "#initialize the embedding_matrix with zeros\n",
    "if max_words is not None: \n",
    "    vocab_len = max_words \n",
    "else:\n",
    "    vocab_len = len(word_index)+1\n",
    "    \n",
    "embedding_matrix = np.zeros((vocab_len, emb_dim))\n",
    "for word, idx in word_index.items():\n",
    "    if idx < vocab_len:\n",
    "        embedding_vector = embedding_vectors.get(word)\n",
    "        if embedding_vector is not None:\n",
    "            embedding_matrix[idx] = embedding_vector\n"
   ]
  },
  {
   "cell_type": "code",
   "execution_count": 49,
   "metadata": {},
   "outputs": [],
   "source": [
    "lstm_model = Sequential()\n",
    "lstm_model.add(Embedding(vocab_len, emb_dim, trainable = False, weights=[embedding_matrix]))\n",
    "lstm_model.add(LSTM(128, return_sequences=False))\n",
    "lstm_model.add(Dropout(0.5))\n",
    "lstm_model.add(Dense(1, activation = 'sigmoid'))\n",
    "lstm_model.compile(loss='binary_crossentropy', optimizer='adam', metrics=['accuracy'])"
   ]
  },
  {
   "cell_type": "code",
   "execution_count": 52,
   "metadata": {},
   "outputs": [
    {
     "name": "stdout",
     "output_type": "stream",
     "text": [
      "Model: \"sequential_1\"\n",
      "_________________________________________________________________\n",
      "Layer (type)                 Output Shape              Param #   \n",
      "=================================================================\n",
      "embedding (Embedding)        (None, None, 300)         3000000   \n",
      "_________________________________________________________________\n",
      "lstm (LSTM)                  (None, 128)               219648    \n",
      "_________________________________________________________________\n",
      "dropout (Dropout)            (None, 128)               0         \n",
      "_________________________________________________________________\n",
      "dense (Dense)                (None, 1)                 129       \n",
      "=================================================================\n",
      "Total params: 3,219,777\n",
      "Trainable params: 219,777\n",
      "Non-trainable params: 3,000,000\n",
      "_________________________________________________________________\n",
      "None\n"
     ]
    }
   ],
   "source": [
    "print(lstm_model.summary())"
   ]
  },
  {
   "cell_type": "code",
   "execution_count": 50,
   "metadata": {},
   "outputs": [
    {
     "name": "stderr",
     "output_type": "stream",
     "text": [
      "2023-04-07 17:15:16.188092: W tensorflow/core/platform/profile_utils/cpu_utils.cc:128] Failed to get CPU frequency: 0 Hz\n"
     ]
    },
    {
     "name": "stdout",
     "output_type": "stream",
     "text": [
      "Epoch 1/10\n"
     ]
    },
    {
     "name": "stderr",
     "output_type": "stream",
     "text": [
      "2023-04-07 17:15:17.493432: I tensorflow/core/grappler/optimizers/custom_graph_optimizer_registry.cc:113] Plugin optimizer for device_type GPU is enabled.\n"
     ]
    },
    {
     "ename": "ResourceExhaustedError",
     "evalue": "Graph execution error:\n\nDetected at node 'sequential_1/embedding/embedding_lookup' defined at (most recent call last):\n    File \"/Users/lunamancebo/miniconda3/lib/python3.10/runpy.py\", line 196, in _run_module_as_main\n      return _run_code(code, main_globals, None,\n    File \"/Users/lunamancebo/miniconda3/lib/python3.10/runpy.py\", line 86, in _run_code\n      exec(code, run_globals)\n    File \"/Users/lunamancebo/miniconda3/lib/python3.10/site-packages/ipykernel_launcher.py\", line 17, in <module>\n      app.launch_new_instance()\n    File \"/Users/lunamancebo/miniconda3/lib/python3.10/site-packages/traitlets/config/application.py\", line 1043, in launch_instance\n      app.start()\n    File \"/Users/lunamancebo/miniconda3/lib/python3.10/site-packages/ipykernel/kernelapp.py\", line 712, in start\n      self.io_loop.start()\n    File \"/Users/lunamancebo/miniconda3/lib/python3.10/site-packages/tornado/platform/asyncio.py\", line 215, in start\n      self.asyncio_loop.run_forever()\n    File \"/Users/lunamancebo/miniconda3/lib/python3.10/asyncio/base_events.py\", line 603, in run_forever\n      self._run_once()\n    File \"/Users/lunamancebo/miniconda3/lib/python3.10/asyncio/base_events.py\", line 1906, in _run_once\n      handle._run()\n    File \"/Users/lunamancebo/miniconda3/lib/python3.10/asyncio/events.py\", line 80, in _run\n      self._context.run(self._callback, *self._args)\n    File \"/Users/lunamancebo/miniconda3/lib/python3.10/site-packages/ipykernel/kernelbase.py\", line 510, in dispatch_queue\n      await self.process_one()\n    File \"/Users/lunamancebo/miniconda3/lib/python3.10/site-packages/ipykernel/kernelbase.py\", line 499, in process_one\n      await dispatch(*args)\n    File \"/Users/lunamancebo/miniconda3/lib/python3.10/site-packages/ipykernel/kernelbase.py\", line 406, in dispatch_shell\n      await result\n    File \"/Users/lunamancebo/miniconda3/lib/python3.10/site-packages/ipykernel/kernelbase.py\", line 730, in execute_request\n      reply_content = await reply_content\n    File \"/Users/lunamancebo/miniconda3/lib/python3.10/site-packages/ipykernel/ipkernel.py\", line 383, in do_execute\n      res = shell.run_cell(\n    File \"/Users/lunamancebo/miniconda3/lib/python3.10/site-packages/ipykernel/zmqshell.py\", line 528, in run_cell\n      return super().run_cell(*args, **kwargs)\n    File \"/Users/lunamancebo/miniconda3/lib/python3.10/site-packages/IPython/core/interactiveshell.py\", line 3006, in run_cell\n      result = self._run_cell(\n    File \"/Users/lunamancebo/miniconda3/lib/python3.10/site-packages/IPython/core/interactiveshell.py\", line 3061, in _run_cell\n      result = runner(coro)\n    File \"/Users/lunamancebo/miniconda3/lib/python3.10/site-packages/IPython/core/async_helpers.py\", line 129, in _pseudo_sync_runner\n      coro.send(None)\n    File \"/Users/lunamancebo/miniconda3/lib/python3.10/site-packages/IPython/core/interactiveshell.py\", line 3266, in run_cell_async\n      has_raised = await self.run_ast_nodes(code_ast.body, cell_name,\n    File \"/Users/lunamancebo/miniconda3/lib/python3.10/site-packages/IPython/core/interactiveshell.py\", line 3445, in run_ast_nodes\n      if await self.run_code(code, result, async_=asy):\n    File \"/Users/lunamancebo/miniconda3/lib/python3.10/site-packages/IPython/core/interactiveshell.py\", line 3505, in run_code\n      exec(code_obj, self.user_global_ns, self.user_ns)\n    File \"/var/folders/_x/cddkf2k97y19q18kzrrrxrzw0000gn/T/ipykernel_9185/1021022132.py\", line 3, in <module>\n      history = lstm_model.fit(X_train_pad, np.asarray(y_train), validation_data=(X_test_pad, np.asarray(y_test)), batch_size = batch_size, epochs = epochs)\n    File \"/Users/lunamancebo/miniconda3/lib/python3.10/site-packages/tensorflow/python/keras/engine/training.py\", line 1189, in fit\n      tmp_logs = self.train_function(iterator)\n    File \"/Users/lunamancebo/miniconda3/lib/python3.10/site-packages/tensorflow/python/keras/engine/training.py\", line 859, in train_function\n      return step_function(self, iterator)\n    File \"/Users/lunamancebo/miniconda3/lib/python3.10/site-packages/tensorflow/python/keras/engine/training.py\", line 849, in step_function\n      outputs = model.distribute_strategy.run(run_step, args=(data,))\n    File \"/Users/lunamancebo/miniconda3/lib/python3.10/site-packages/tensorflow/python/keras/engine/training.py\", line 842, in run_step\n      outputs = model.train_step(data)\n    File \"/Users/lunamancebo/miniconda3/lib/python3.10/site-packages/tensorflow/python/keras/engine/training.py\", line 799, in train_step\n      y_pred = self(x, training=True)\n    File \"/Users/lunamancebo/miniconda3/lib/python3.10/site-packages/tensorflow/python/keras/engine/base_layer.py\", line 1044, in __call__\n      outputs = call_fn(inputs, *args, **kwargs)\n    File \"/Users/lunamancebo/miniconda3/lib/python3.10/site-packages/tensorflow/python/keras/engine/sequential.py\", line 379, in call\n      return super(Sequential, self).call(inputs, training=training, mask=mask)\n    File \"/Users/lunamancebo/miniconda3/lib/python3.10/site-packages/tensorflow/python/keras/engine/functional.py\", line 419, in call\n      return self._run_internal_graph(\n    File \"/Users/lunamancebo/miniconda3/lib/python3.10/site-packages/tensorflow/python/keras/engine/functional.py\", line 555, in _run_internal_graph\n      outputs = node.layer(*args, **kwargs)\n    File \"/Users/lunamancebo/miniconda3/lib/python3.10/site-packages/tensorflow/python/keras/engine/base_layer.py\", line 1044, in __call__\n      outputs = call_fn(inputs, *args, **kwargs)\n    File \"/Users/lunamancebo/miniconda3/lib/python3.10/site-packages/tensorflow/python/keras/layers/embeddings.py\", line 191, in call\n      out = embedding_ops.embedding_lookup_v2(self.embeddings, inputs)\nNode: 'sequential_1/embedding/embedding_lookup'\nDetected at node 'sequential_1/embedding/embedding_lookup' defined at (most recent call last):\n    File \"/Users/lunamancebo/miniconda3/lib/python3.10/runpy.py\", line 196, in _run_module_as_main\n      return _run_code(code, main_globals, None,\n    File \"/Users/lunamancebo/miniconda3/lib/python3.10/runpy.py\", line 86, in _run_code\n      exec(code, run_globals)\n    File \"/Users/lunamancebo/miniconda3/lib/python3.10/site-packages/ipykernel_launcher.py\", line 17, in <module>\n      app.launch_new_instance()\n    File \"/Users/lunamancebo/miniconda3/lib/python3.10/site-packages/traitlets/config/application.py\", line 1043, in launch_instance\n      app.start()\n    File \"/Users/lunamancebo/miniconda3/lib/python3.10/site-packages/ipykernel/kernelapp.py\", line 712, in start\n      self.io_loop.start()\n    File \"/Users/lunamancebo/miniconda3/lib/python3.10/site-packages/tornado/platform/asyncio.py\", line 215, in start\n      self.asyncio_loop.run_forever()\n    File \"/Users/lunamancebo/miniconda3/lib/python3.10/asyncio/base_events.py\", line 603, in run_forever\n      self._run_once()\n    File \"/Users/lunamancebo/miniconda3/lib/python3.10/asyncio/base_events.py\", line 1906, in _run_once\n      handle._run()\n    File \"/Users/lunamancebo/miniconda3/lib/python3.10/asyncio/events.py\", line 80, in _run\n      self._context.run(self._callback, *self._args)\n    File \"/Users/lunamancebo/miniconda3/lib/python3.10/site-packages/ipykernel/kernelbase.py\", line 510, in dispatch_queue\n      await self.process_one()\n    File \"/Users/lunamancebo/miniconda3/lib/python3.10/site-packages/ipykernel/kernelbase.py\", line 499, in process_one\n      await dispatch(*args)\n    File \"/Users/lunamancebo/miniconda3/lib/python3.10/site-packages/ipykernel/kernelbase.py\", line 406, in dispatch_shell\n      await result\n    File \"/Users/lunamancebo/miniconda3/lib/python3.10/site-packages/ipykernel/kernelbase.py\", line 730, in execute_request\n      reply_content = await reply_content\n    File \"/Users/lunamancebo/miniconda3/lib/python3.10/site-packages/ipykernel/ipkernel.py\", line 383, in do_execute\n      res = shell.run_cell(\n    File \"/Users/lunamancebo/miniconda3/lib/python3.10/site-packages/ipykernel/zmqshell.py\", line 528, in run_cell\n      return super().run_cell(*args, **kwargs)\n    File \"/Users/lunamancebo/miniconda3/lib/python3.10/site-packages/IPython/core/interactiveshell.py\", line 3006, in run_cell\n      result = self._run_cell(\n    File \"/Users/lunamancebo/miniconda3/lib/python3.10/site-packages/IPython/core/interactiveshell.py\", line 3061, in _run_cell\n      result = runner(coro)\n    File \"/Users/lunamancebo/miniconda3/lib/python3.10/site-packages/IPython/core/async_helpers.py\", line 129, in _pseudo_sync_runner\n      coro.send(None)\n    File \"/Users/lunamancebo/miniconda3/lib/python3.10/site-packages/IPython/core/interactiveshell.py\", line 3266, in run_cell_async\n      has_raised = await self.run_ast_nodes(code_ast.body, cell_name,\n    File \"/Users/lunamancebo/miniconda3/lib/python3.10/site-packages/IPython/core/interactiveshell.py\", line 3445, in run_ast_nodes\n      if await self.run_code(code, result, async_=asy):\n    File \"/Users/lunamancebo/miniconda3/lib/python3.10/site-packages/IPython/core/interactiveshell.py\", line 3505, in run_code\n      exec(code_obj, self.user_global_ns, self.user_ns)\n    File \"/var/folders/_x/cddkf2k97y19q18kzrrrxrzw0000gn/T/ipykernel_9185/1021022132.py\", line 3, in <module>\n      history = lstm_model.fit(X_train_pad, np.asarray(y_train), validation_data=(X_test_pad, np.asarray(y_test)), batch_size = batch_size, epochs = epochs)\n    File \"/Users/lunamancebo/miniconda3/lib/python3.10/site-packages/tensorflow/python/keras/engine/training.py\", line 1189, in fit\n      tmp_logs = self.train_function(iterator)\n    File \"/Users/lunamancebo/miniconda3/lib/python3.10/site-packages/tensorflow/python/keras/engine/training.py\", line 859, in train_function\n      return step_function(self, iterator)\n    File \"/Users/lunamancebo/miniconda3/lib/python3.10/site-packages/tensorflow/python/keras/engine/training.py\", line 849, in step_function\n      outputs = model.distribute_strategy.run(run_step, args=(data,))\n    File \"/Users/lunamancebo/miniconda3/lib/python3.10/site-packages/tensorflow/python/keras/engine/training.py\", line 842, in run_step\n      outputs = model.train_step(data)\n    File \"/Users/lunamancebo/miniconda3/lib/python3.10/site-packages/tensorflow/python/keras/engine/training.py\", line 799, in train_step\n      y_pred = self(x, training=True)\n    File \"/Users/lunamancebo/miniconda3/lib/python3.10/site-packages/tensorflow/python/keras/engine/base_layer.py\", line 1044, in __call__\n      outputs = call_fn(inputs, *args, **kwargs)\n    File \"/Users/lunamancebo/miniconda3/lib/python3.10/site-packages/tensorflow/python/keras/engine/sequential.py\", line 379, in call\n      return super(Sequential, self).call(inputs, training=training, mask=mask)\n    File \"/Users/lunamancebo/miniconda3/lib/python3.10/site-packages/tensorflow/python/keras/engine/functional.py\", line 419, in call\n      return self._run_internal_graph(\n    File \"/Users/lunamancebo/miniconda3/lib/python3.10/site-packages/tensorflow/python/keras/engine/functional.py\", line 555, in _run_internal_graph\n      outputs = node.layer(*args, **kwargs)\n    File \"/Users/lunamancebo/miniconda3/lib/python3.10/site-packages/tensorflow/python/keras/engine/base_layer.py\", line 1044, in __call__\n      outputs = call_fn(inputs, *args, **kwargs)\n    File \"/Users/lunamancebo/miniconda3/lib/python3.10/site-packages/tensorflow/python/keras/layers/embeddings.py\", line 191, in call\n      out = embedding_ops.embedding_lookup_v2(self.embeddings, inputs)\nNode: 'sequential_1/embedding/embedding_lookup'\n2 root error(s) found.\n  (0) RESOURCE_EXHAUSTED:  OOM when allocating tensor with shape[256,20450,300] and type float on /job:localhost/replica:0/task:0/device:GPU:0 by allocator Simple allocator\n\t [[{{node sequential_1/embedding/embedding_lookup}}]]\nHint: If you want to see a list of allocated tensors when OOM happens, add report_tensor_allocations_upon_oom to RunOptions for current allocation info. This isn't available when running in Eager mode.\n\n\t [[Func/gradient_tape/sequential_1/lstm/while/sequential_1/lstm/while_grad/body/_364/input/_1074/_102]]\nHint: If you want to see a list of allocated tensors when OOM happens, add report_tensor_allocations_upon_oom to RunOptions for current allocation info. This isn't available when running in Eager mode.\n\n  (1) RESOURCE_EXHAUSTED:  OOM when allocating tensor with shape[256,20450,300] and type float on /job:localhost/replica:0/task:0/device:GPU:0 by allocator Simple allocator\n\t [[{{node sequential_1/embedding/embedding_lookup}}]]\nHint: If you want to see a list of allocated tensors when OOM happens, add report_tensor_allocations_upon_oom to RunOptions for current allocation info. This isn't available when running in Eager mode.\n\n0 successful operations.\n0 derived errors ignored. [Op:__inference_train_function_3882]",
     "output_type": "error",
     "traceback": [
      "\u001b[0;31m---------------------------------------------------------------------------\u001b[0m",
      "\u001b[0;31mResourceExhaustedError\u001b[0m                    Traceback (most recent call last)",
      "Cell \u001b[0;32mIn[50], line 3\u001b[0m\n\u001b[1;32m      1\u001b[0m batch_size \u001b[39m=\u001b[39m \u001b[39m256\u001b[39m\n\u001b[1;32m      2\u001b[0m epochs  \u001b[39m=\u001b[39m \u001b[39m10\u001b[39m\n\u001b[0;32m----> 3\u001b[0m history \u001b[39m=\u001b[39m lstm_model\u001b[39m.\u001b[39;49mfit(X_train_pad, np\u001b[39m.\u001b[39;49masarray(y_train), validation_data\u001b[39m=\u001b[39;49m(X_test_pad, np\u001b[39m.\u001b[39;49masarray(y_test)), batch_size \u001b[39m=\u001b[39;49m batch_size, epochs \u001b[39m=\u001b[39;49m epochs)\n",
      "File \u001b[0;32m~/miniconda3/lib/python3.10/site-packages/tensorflow/python/keras/engine/training.py:1189\u001b[0m, in \u001b[0;36mModel.fit\u001b[0;34m(self, x, y, batch_size, epochs, verbose, callbacks, validation_split, validation_data, shuffle, class_weight, sample_weight, initial_epoch, steps_per_epoch, validation_steps, validation_batch_size, validation_freq, max_queue_size, workers, use_multiprocessing)\u001b[0m\n\u001b[1;32m   1182\u001b[0m \u001b[39mwith\u001b[39;00m trace\u001b[39m.\u001b[39mTrace(\n\u001b[1;32m   1183\u001b[0m     \u001b[39m'\u001b[39m\u001b[39mtrain\u001b[39m\u001b[39m'\u001b[39m,\n\u001b[1;32m   1184\u001b[0m     epoch_num\u001b[39m=\u001b[39mepoch,\n\u001b[1;32m   1185\u001b[0m     step_num\u001b[39m=\u001b[39mstep,\n\u001b[1;32m   1186\u001b[0m     batch_size\u001b[39m=\u001b[39mbatch_size,\n\u001b[1;32m   1187\u001b[0m     _r\u001b[39m=\u001b[39m\u001b[39m1\u001b[39m):\n\u001b[1;32m   1188\u001b[0m   callbacks\u001b[39m.\u001b[39mon_train_batch_begin(step)\n\u001b[0;32m-> 1189\u001b[0m   tmp_logs \u001b[39m=\u001b[39m \u001b[39mself\u001b[39;49m\u001b[39m.\u001b[39;49mtrain_function(iterator)\n\u001b[1;32m   1190\u001b[0m   \u001b[39mif\u001b[39;00m data_handler\u001b[39m.\u001b[39mshould_sync:\n\u001b[1;32m   1191\u001b[0m     context\u001b[39m.\u001b[39masync_wait()\n",
      "File \u001b[0;32m~/miniconda3/lib/python3.10/site-packages/tensorflow/python/util/traceback_utils.py:153\u001b[0m, in \u001b[0;36mfilter_traceback.<locals>.error_handler\u001b[0;34m(*args, **kwargs)\u001b[0m\n\u001b[1;32m    151\u001b[0m \u001b[39mexcept\u001b[39;00m \u001b[39mException\u001b[39;00m \u001b[39mas\u001b[39;00m e:\n\u001b[1;32m    152\u001b[0m   filtered_tb \u001b[39m=\u001b[39m _process_traceback_frames(e\u001b[39m.\u001b[39m__traceback__)\n\u001b[0;32m--> 153\u001b[0m   \u001b[39mraise\u001b[39;00m e\u001b[39m.\u001b[39mwith_traceback(filtered_tb) \u001b[39mfrom\u001b[39;00m \u001b[39mNone\u001b[39m\n\u001b[1;32m    154\u001b[0m \u001b[39mfinally\u001b[39;00m:\n\u001b[1;32m    155\u001b[0m   \u001b[39mdel\u001b[39;00m filtered_tb\n",
      "File \u001b[0;32m~/miniconda3/lib/python3.10/site-packages/tensorflow/python/eager/execute.py:54\u001b[0m, in \u001b[0;36mquick_execute\u001b[0;34m(op_name, num_outputs, inputs, attrs, ctx, name)\u001b[0m\n\u001b[1;32m     52\u001b[0m \u001b[39mtry\u001b[39;00m:\n\u001b[1;32m     53\u001b[0m   ctx\u001b[39m.\u001b[39mensure_initialized()\n\u001b[0;32m---> 54\u001b[0m   tensors \u001b[39m=\u001b[39m pywrap_tfe\u001b[39m.\u001b[39mTFE_Py_Execute(ctx\u001b[39m.\u001b[39m_handle, device_name, op_name,\n\u001b[1;32m     55\u001b[0m                                       inputs, attrs, num_outputs)\n\u001b[1;32m     56\u001b[0m \u001b[39mexcept\u001b[39;00m core\u001b[39m.\u001b[39m_NotOkStatusException \u001b[39mas\u001b[39;00m e:\n\u001b[1;32m     57\u001b[0m   \u001b[39mif\u001b[39;00m name \u001b[39mis\u001b[39;00m \u001b[39mnot\u001b[39;00m \u001b[39mNone\u001b[39;00m:\n",
      "\u001b[0;31mResourceExhaustedError\u001b[0m: Graph execution error:\n\nDetected at node 'sequential_1/embedding/embedding_lookup' defined at (most recent call last):\n    File \"/Users/lunamancebo/miniconda3/lib/python3.10/runpy.py\", line 196, in _run_module_as_main\n      return _run_code(code, main_globals, None,\n    File \"/Users/lunamancebo/miniconda3/lib/python3.10/runpy.py\", line 86, in _run_code\n      exec(code, run_globals)\n    File \"/Users/lunamancebo/miniconda3/lib/python3.10/site-packages/ipykernel_launcher.py\", line 17, in <module>\n      app.launch_new_instance()\n    File \"/Users/lunamancebo/miniconda3/lib/python3.10/site-packages/traitlets/config/application.py\", line 1043, in launch_instance\n      app.start()\n    File \"/Users/lunamancebo/miniconda3/lib/python3.10/site-packages/ipykernel/kernelapp.py\", line 712, in start\n      self.io_loop.start()\n    File \"/Users/lunamancebo/miniconda3/lib/python3.10/site-packages/tornado/platform/asyncio.py\", line 215, in start\n      self.asyncio_loop.run_forever()\n    File \"/Users/lunamancebo/miniconda3/lib/python3.10/asyncio/base_events.py\", line 603, in run_forever\n      self._run_once()\n    File \"/Users/lunamancebo/miniconda3/lib/python3.10/asyncio/base_events.py\", line 1906, in _run_once\n      handle._run()\n    File \"/Users/lunamancebo/miniconda3/lib/python3.10/asyncio/events.py\", line 80, in _run\n      self._context.run(self._callback, *self._args)\n    File \"/Users/lunamancebo/miniconda3/lib/python3.10/site-packages/ipykernel/kernelbase.py\", line 510, in dispatch_queue\n      await self.process_one()\n    File \"/Users/lunamancebo/miniconda3/lib/python3.10/site-packages/ipykernel/kernelbase.py\", line 499, in process_one\n      await dispatch(*args)\n    File \"/Users/lunamancebo/miniconda3/lib/python3.10/site-packages/ipykernel/kernelbase.py\", line 406, in dispatch_shell\n      await result\n    File \"/Users/lunamancebo/miniconda3/lib/python3.10/site-packages/ipykernel/kernelbase.py\", line 730, in execute_request\n      reply_content = await reply_content\n    File \"/Users/lunamancebo/miniconda3/lib/python3.10/site-packages/ipykernel/ipkernel.py\", line 383, in do_execute\n      res = shell.run_cell(\n    File \"/Users/lunamancebo/miniconda3/lib/python3.10/site-packages/ipykernel/zmqshell.py\", line 528, in run_cell\n      return super().run_cell(*args, **kwargs)\n    File \"/Users/lunamancebo/miniconda3/lib/python3.10/site-packages/IPython/core/interactiveshell.py\", line 3006, in run_cell\n      result = self._run_cell(\n    File \"/Users/lunamancebo/miniconda3/lib/python3.10/site-packages/IPython/core/interactiveshell.py\", line 3061, in _run_cell\n      result = runner(coro)\n    File \"/Users/lunamancebo/miniconda3/lib/python3.10/site-packages/IPython/core/async_helpers.py\", line 129, in _pseudo_sync_runner\n      coro.send(None)\n    File \"/Users/lunamancebo/miniconda3/lib/python3.10/site-packages/IPython/core/interactiveshell.py\", line 3266, in run_cell_async\n      has_raised = await self.run_ast_nodes(code_ast.body, cell_name,\n    File \"/Users/lunamancebo/miniconda3/lib/python3.10/site-packages/IPython/core/interactiveshell.py\", line 3445, in run_ast_nodes\n      if await self.run_code(code, result, async_=asy):\n    File \"/Users/lunamancebo/miniconda3/lib/python3.10/site-packages/IPython/core/interactiveshell.py\", line 3505, in run_code\n      exec(code_obj, self.user_global_ns, self.user_ns)\n    File \"/var/folders/_x/cddkf2k97y19q18kzrrrxrzw0000gn/T/ipykernel_9185/1021022132.py\", line 3, in <module>\n      history = lstm_model.fit(X_train_pad, np.asarray(y_train), validation_data=(X_test_pad, np.asarray(y_test)), batch_size = batch_size, epochs = epochs)\n    File \"/Users/lunamancebo/miniconda3/lib/python3.10/site-packages/tensorflow/python/keras/engine/training.py\", line 1189, in fit\n      tmp_logs = self.train_function(iterator)\n    File \"/Users/lunamancebo/miniconda3/lib/python3.10/site-packages/tensorflow/python/keras/engine/training.py\", line 859, in train_function\n      return step_function(self, iterator)\n    File \"/Users/lunamancebo/miniconda3/lib/python3.10/site-packages/tensorflow/python/keras/engine/training.py\", line 849, in step_function\n      outputs = model.distribute_strategy.run(run_step, args=(data,))\n    File \"/Users/lunamancebo/miniconda3/lib/python3.10/site-packages/tensorflow/python/keras/engine/training.py\", line 842, in run_step\n      outputs = model.train_step(data)\n    File \"/Users/lunamancebo/miniconda3/lib/python3.10/site-packages/tensorflow/python/keras/engine/training.py\", line 799, in train_step\n      y_pred = self(x, training=True)\n    File \"/Users/lunamancebo/miniconda3/lib/python3.10/site-packages/tensorflow/python/keras/engine/base_layer.py\", line 1044, in __call__\n      outputs = call_fn(inputs, *args, **kwargs)\n    File \"/Users/lunamancebo/miniconda3/lib/python3.10/site-packages/tensorflow/python/keras/engine/sequential.py\", line 379, in call\n      return super(Sequential, self).call(inputs, training=training, mask=mask)\n    File \"/Users/lunamancebo/miniconda3/lib/python3.10/site-packages/tensorflow/python/keras/engine/functional.py\", line 419, in call\n      return self._run_internal_graph(\n    File \"/Users/lunamancebo/miniconda3/lib/python3.10/site-packages/tensorflow/python/keras/engine/functional.py\", line 555, in _run_internal_graph\n      outputs = node.layer(*args, **kwargs)\n    File \"/Users/lunamancebo/miniconda3/lib/python3.10/site-packages/tensorflow/python/keras/engine/base_layer.py\", line 1044, in __call__\n      outputs = call_fn(inputs, *args, **kwargs)\n    File \"/Users/lunamancebo/miniconda3/lib/python3.10/site-packages/tensorflow/python/keras/layers/embeddings.py\", line 191, in call\n      out = embedding_ops.embedding_lookup_v2(self.embeddings, inputs)\nNode: 'sequential_1/embedding/embedding_lookup'\nDetected at node 'sequential_1/embedding/embedding_lookup' defined at (most recent call last):\n    File \"/Users/lunamancebo/miniconda3/lib/python3.10/runpy.py\", line 196, in _run_module_as_main\n      return _run_code(code, main_globals, None,\n    File \"/Users/lunamancebo/miniconda3/lib/python3.10/runpy.py\", line 86, in _run_code\n      exec(code, run_globals)\n    File \"/Users/lunamancebo/miniconda3/lib/python3.10/site-packages/ipykernel_launcher.py\", line 17, in <module>\n      app.launch_new_instance()\n    File \"/Users/lunamancebo/miniconda3/lib/python3.10/site-packages/traitlets/config/application.py\", line 1043, in launch_instance\n      app.start()\n    File \"/Users/lunamancebo/miniconda3/lib/python3.10/site-packages/ipykernel/kernelapp.py\", line 712, in start\n      self.io_loop.start()\n    File \"/Users/lunamancebo/miniconda3/lib/python3.10/site-packages/tornado/platform/asyncio.py\", line 215, in start\n      self.asyncio_loop.run_forever()\n    File \"/Users/lunamancebo/miniconda3/lib/python3.10/asyncio/base_events.py\", line 603, in run_forever\n      self._run_once()\n    File \"/Users/lunamancebo/miniconda3/lib/python3.10/asyncio/base_events.py\", line 1906, in _run_once\n      handle._run()\n    File \"/Users/lunamancebo/miniconda3/lib/python3.10/asyncio/events.py\", line 80, in _run\n      self._context.run(self._callback, *self._args)\n    File \"/Users/lunamancebo/miniconda3/lib/python3.10/site-packages/ipykernel/kernelbase.py\", line 510, in dispatch_queue\n      await self.process_one()\n    File \"/Users/lunamancebo/miniconda3/lib/python3.10/site-packages/ipykernel/kernelbase.py\", line 499, in process_one\n      await dispatch(*args)\n    File \"/Users/lunamancebo/miniconda3/lib/python3.10/site-packages/ipykernel/kernelbase.py\", line 406, in dispatch_shell\n      await result\n    File \"/Users/lunamancebo/miniconda3/lib/python3.10/site-packages/ipykernel/kernelbase.py\", line 730, in execute_request\n      reply_content = await reply_content\n    File \"/Users/lunamancebo/miniconda3/lib/python3.10/site-packages/ipykernel/ipkernel.py\", line 383, in do_execute\n      res = shell.run_cell(\n    File \"/Users/lunamancebo/miniconda3/lib/python3.10/site-packages/ipykernel/zmqshell.py\", line 528, in run_cell\n      return super().run_cell(*args, **kwargs)\n    File \"/Users/lunamancebo/miniconda3/lib/python3.10/site-packages/IPython/core/interactiveshell.py\", line 3006, in run_cell\n      result = self._run_cell(\n    File \"/Users/lunamancebo/miniconda3/lib/python3.10/site-packages/IPython/core/interactiveshell.py\", line 3061, in _run_cell\n      result = runner(coro)\n    File \"/Users/lunamancebo/miniconda3/lib/python3.10/site-packages/IPython/core/async_helpers.py\", line 129, in _pseudo_sync_runner\n      coro.send(None)\n    File \"/Users/lunamancebo/miniconda3/lib/python3.10/site-packages/IPython/core/interactiveshell.py\", line 3266, in run_cell_async\n      has_raised = await self.run_ast_nodes(code_ast.body, cell_name,\n    File \"/Users/lunamancebo/miniconda3/lib/python3.10/site-packages/IPython/core/interactiveshell.py\", line 3445, in run_ast_nodes\n      if await self.run_code(code, result, async_=asy):\n    File \"/Users/lunamancebo/miniconda3/lib/python3.10/site-packages/IPython/core/interactiveshell.py\", line 3505, in run_code\n      exec(code_obj, self.user_global_ns, self.user_ns)\n    File \"/var/folders/_x/cddkf2k97y19q18kzrrrxrzw0000gn/T/ipykernel_9185/1021022132.py\", line 3, in <module>\n      history = lstm_model.fit(X_train_pad, np.asarray(y_train), validation_data=(X_test_pad, np.asarray(y_test)), batch_size = batch_size, epochs = epochs)\n    File \"/Users/lunamancebo/miniconda3/lib/python3.10/site-packages/tensorflow/python/keras/engine/training.py\", line 1189, in fit\n      tmp_logs = self.train_function(iterator)\n    File \"/Users/lunamancebo/miniconda3/lib/python3.10/site-packages/tensorflow/python/keras/engine/training.py\", line 859, in train_function\n      return step_function(self, iterator)\n    File \"/Users/lunamancebo/miniconda3/lib/python3.10/site-packages/tensorflow/python/keras/engine/training.py\", line 849, in step_function\n      outputs = model.distribute_strategy.run(run_step, args=(data,))\n    File \"/Users/lunamancebo/miniconda3/lib/python3.10/site-packages/tensorflow/python/keras/engine/training.py\", line 842, in run_step\n      outputs = model.train_step(data)\n    File \"/Users/lunamancebo/miniconda3/lib/python3.10/site-packages/tensorflow/python/keras/engine/training.py\", line 799, in train_step\n      y_pred = self(x, training=True)\n    File \"/Users/lunamancebo/miniconda3/lib/python3.10/site-packages/tensorflow/python/keras/engine/base_layer.py\", line 1044, in __call__\n      outputs = call_fn(inputs, *args, **kwargs)\n    File \"/Users/lunamancebo/miniconda3/lib/python3.10/site-packages/tensorflow/python/keras/engine/sequential.py\", line 379, in call\n      return super(Sequential, self).call(inputs, training=training, mask=mask)\n    File \"/Users/lunamancebo/miniconda3/lib/python3.10/site-packages/tensorflow/python/keras/engine/functional.py\", line 419, in call\n      return self._run_internal_graph(\n    File \"/Users/lunamancebo/miniconda3/lib/python3.10/site-packages/tensorflow/python/keras/engine/functional.py\", line 555, in _run_internal_graph\n      outputs = node.layer(*args, **kwargs)\n    File \"/Users/lunamancebo/miniconda3/lib/python3.10/site-packages/tensorflow/python/keras/engine/base_layer.py\", line 1044, in __call__\n      outputs = call_fn(inputs, *args, **kwargs)\n    File \"/Users/lunamancebo/miniconda3/lib/python3.10/site-packages/tensorflow/python/keras/layers/embeddings.py\", line 191, in call\n      out = embedding_ops.embedding_lookup_v2(self.embeddings, inputs)\nNode: 'sequential_1/embedding/embedding_lookup'\n2 root error(s) found.\n  (0) RESOURCE_EXHAUSTED:  OOM when allocating tensor with shape[256,20450,300] and type float on /job:localhost/replica:0/task:0/device:GPU:0 by allocator Simple allocator\n\t [[{{node sequential_1/embedding/embedding_lookup}}]]\nHint: If you want to see a list of allocated tensors when OOM happens, add report_tensor_allocations_upon_oom to RunOptions for current allocation info. This isn't available when running in Eager mode.\n\n\t [[Func/gradient_tape/sequential_1/lstm/while/sequential_1/lstm/while_grad/body/_364/input/_1074/_102]]\nHint: If you want to see a list of allocated tensors when OOM happens, add report_tensor_allocations_upon_oom to RunOptions for current allocation info. This isn't available when running in Eager mode.\n\n  (1) RESOURCE_EXHAUSTED:  OOM when allocating tensor with shape[256,20450,300] and type float on /job:localhost/replica:0/task:0/device:GPU:0 by allocator Simple allocator\n\t [[{{node sequential_1/embedding/embedding_lookup}}]]\nHint: If you want to see a list of allocated tensors when OOM happens, add report_tensor_allocations_upon_oom to RunOptions for current allocation info. This isn't available when running in Eager mode.\n\n0 successful operations.\n0 derived errors ignored. [Op:__inference_train_function_3882]"
     ]
    }
   ],
   "source": [
    "batch_size = 128\n",
    "epochs  = 10\n",
    "history = lstm_model.fit(X_train_pad, np.asarray(y_train), validation_data=(X_test_pad, np.asarray(y_test)), batch_size = batch_size, epochs = epochs)"
   ]
  },
  {
   "cell_type": "code",
   "execution_count": null,
   "metadata": {},
   "outputs": [],
   "source": []
  }
 ],
 "metadata": {
  "kernelspec": {
   "display_name": "Python 3 (ipykernel)",
   "language": "python",
   "name": "python3"
  },
  "language_info": {
   "codemirror_mode": {
    "name": "ipython",
    "version": 3
   },
   "file_extension": ".py",
   "mimetype": "text/x-python",
   "name": "python",
   "nbconvert_exporter": "python",
   "pygments_lexer": "ipython3",
   "version": "3.10.9"
  }
 },
 "nbformat": 4,
 "nbformat_minor": 2
}
